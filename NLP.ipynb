{
  "nbformat": 4,
  "nbformat_minor": 0,
  "metadata": {
    "colab": {
      "name": "NLP.ipynb",
      "provenance": [],
      "collapsed_sections": []
    },
    "kernelspec": {
      "name": "python3",
      "display_name": "Python 3"
    },
    "language_info": {
      "name": "python"
    }
  },
  "cells": [
    {
      "cell_type": "markdown",
      "source": [
        "# Natural Language Processing(NLP)"
      ],
      "metadata": {
        "id": "h4qANYqX9IOq"
      }
    },
    {
      "cell_type": "markdown",
      "source": [
        "I observed that NLP has been a hot topic for quantitative finance these days. Hence, I want to do a small project to matches the market's demand"
      ],
      "metadata": {
        "id": "A96kPjos71WY"
      }
    },
    {
      "cell_type": "code",
      "execution_count": 5,
      "metadata": {
        "id": "wGvi9twn7yp1"
      },
      "outputs": [],
      "source": [
        "import nltk\n",
        "from nltk.corpus import movie_reviews\n",
        "import random\n",
        "import numpy as np\n",
        "import pandas as pd\n",
        "#from sklearn.model_selection import KFold\n",
        "import string\n",
        "from nltk.stem import PorterStemmer\n",
        "#from sklearn.model_selection import train_test_split\n",
        "from nltk.classify.scikitlearn import SklearnClassifier\n",
        "from sklearn.naive_bayes import MultinomialNB"
      ]
    },
    {
      "cell_type": "markdown",
      "source": [
        "nltk is the main library associated with the NLP topic(at least in the domain of my knowledge). Today, we use the 'movie_reviews' data attached in the nltk library to analyze the sentiment of some movie reviews. The ultimate goal is to build a model that can predict sentiments if a piece of review is given."
      ],
      "metadata": {
        "id": "MeJy88Pd9-b9"
      }
    },
    {
      "cell_type": "code",
      "source": [
        "nltk.download('movie_reviews')\n",
        "nltk.download('stopwords')"
      ],
      "metadata": {
        "colab": {
          "base_uri": "https://localhost:8080/"
        },
        "id": "yuqXyy_H9u04",
        "outputId": "a65cf2fa-474b-4388-8185-02c51b256123"
      },
      "execution_count": 18,
      "outputs": [
        {
          "output_type": "stream",
          "name": "stderr",
          "text": [
            "[nltk_data] Downloading package movie_reviews to /root/nltk_data...\n",
            "[nltk_data]   Package movie_reviews is already up-to-date!\n",
            "[nltk_data] Downloading package stopwords to /root/nltk_data...\n",
            "[nltk_data]   Unzipping corpora/stopwords.zip.\n"
          ]
        },
        {
          "output_type": "execute_result",
          "data": {
            "text/plain": [
              "True"
            ]
          },
          "metadata": {},
          "execution_count": 18
        }
      ]
    },
    {
      "cell_type": "markdown",
      "source": [
        "Put the (review, sentiment) pair into a list. Also, pandas dataframe is pretty handy for data processing."
      ],
      "metadata": {
        "id": "e8sa7Vx8_Loi"
      }
    },
    {
      "cell_type": "code",
      "source": [
        "# input\n",
        "documents = [(list(movie_reviews.words(fileid)), category)\n",
        "              for category in movie_reviews.categories()\n",
        "              for fileid in movie_reviews.fileids(category)]\n",
        "random.shuffle(documents)\n",
        "\n",
        "# dataframe of documents\n",
        "documents_df = pd.DataFrame(documents, columns=['review', 'sentiment'])\n"
      ],
      "metadata": {
        "id": "XfMf0Ene9YJd"
      },
      "execution_count": 14,
      "outputs": []
    },
    {
      "cell_type": "markdown",
      "source": [
        "Quick look of raw data"
      ],
      "metadata": {
        "id": "8rMn6B-VEEzI"
      }
    },
    {
      "cell_type": "code",
      "source": [
        "documents_df.head(10)"
      ],
      "metadata": {
        "colab": {
          "base_uri": "https://localhost:8080/",
          "height": 363
        },
        "id": "rgBxOBFLEFJy",
        "outputId": "bd261005-7638-457b-fa19-6731e08106b1"
      },
      "execution_count": 15,
      "outputs": [
        {
          "output_type": "execute_result",
          "data": {
            "text/plain": [
              "                                              review sentiment\n",
              "0  [a, follow, -, up, to, disney, ', s, live, -, ...       neg\n",
              "1  [what, if, one, of, our, cities, became, the, ...       pos\n",
              "2  [contact, is, a, nobly, intentioned, but, ulti...       pos\n",
              "3  [vampire, lore, and, legend, has, always, been...       pos\n",
              "4  [it, ', s, a, rare, treat, when, a, quality, h...       neg\n",
              "5  [a, month, ago, i, wrote, that, speed, 2, was,...       neg\n",
              "6  [capsule, :, annoyingly, unentertaining, ,, ob...       neg\n",
              "7  [a, number, of, critics, have, decided, that, ...       neg\n",
              "8  [shakespeare, in, love, is, quite, possibly, t...       neg\n",
              "9  [the, \", italian, hitchcock, \", and, acknowled...       pos"
            ],
            "text/html": [
              "\n",
              "  <div id=\"df-b2312077-7679-4be8-8d9e-0d44b012f04a\">\n",
              "    <div class=\"colab-df-container\">\n",
              "      <div>\n",
              "<style scoped>\n",
              "    .dataframe tbody tr th:only-of-type {\n",
              "        vertical-align: middle;\n",
              "    }\n",
              "\n",
              "    .dataframe tbody tr th {\n",
              "        vertical-align: top;\n",
              "    }\n",
              "\n",
              "    .dataframe thead th {\n",
              "        text-align: right;\n",
              "    }\n",
              "</style>\n",
              "<table border=\"1\" class=\"dataframe\">\n",
              "  <thead>\n",
              "    <tr style=\"text-align: right;\">\n",
              "      <th></th>\n",
              "      <th>review</th>\n",
              "      <th>sentiment</th>\n",
              "    </tr>\n",
              "  </thead>\n",
              "  <tbody>\n",
              "    <tr>\n",
              "      <th>0</th>\n",
              "      <td>[a, follow, -, up, to, disney, ', s, live, -, ...</td>\n",
              "      <td>neg</td>\n",
              "    </tr>\n",
              "    <tr>\n",
              "      <th>1</th>\n",
              "      <td>[what, if, one, of, our, cities, became, the, ...</td>\n",
              "      <td>pos</td>\n",
              "    </tr>\n",
              "    <tr>\n",
              "      <th>2</th>\n",
              "      <td>[contact, is, a, nobly, intentioned, but, ulti...</td>\n",
              "      <td>pos</td>\n",
              "    </tr>\n",
              "    <tr>\n",
              "      <th>3</th>\n",
              "      <td>[vampire, lore, and, legend, has, always, been...</td>\n",
              "      <td>pos</td>\n",
              "    </tr>\n",
              "    <tr>\n",
              "      <th>4</th>\n",
              "      <td>[it, ', s, a, rare, treat, when, a, quality, h...</td>\n",
              "      <td>neg</td>\n",
              "    </tr>\n",
              "    <tr>\n",
              "      <th>5</th>\n",
              "      <td>[a, month, ago, i, wrote, that, speed, 2, was,...</td>\n",
              "      <td>neg</td>\n",
              "    </tr>\n",
              "    <tr>\n",
              "      <th>6</th>\n",
              "      <td>[capsule, :, annoyingly, unentertaining, ,, ob...</td>\n",
              "      <td>neg</td>\n",
              "    </tr>\n",
              "    <tr>\n",
              "      <th>7</th>\n",
              "      <td>[a, number, of, critics, have, decided, that, ...</td>\n",
              "      <td>neg</td>\n",
              "    </tr>\n",
              "    <tr>\n",
              "      <th>8</th>\n",
              "      <td>[shakespeare, in, love, is, quite, possibly, t...</td>\n",
              "      <td>neg</td>\n",
              "    </tr>\n",
              "    <tr>\n",
              "      <th>9</th>\n",
              "      <td>[the, \", italian, hitchcock, \", and, acknowled...</td>\n",
              "      <td>pos</td>\n",
              "    </tr>\n",
              "  </tbody>\n",
              "</table>\n",
              "</div>\n",
              "      <button class=\"colab-df-convert\" onclick=\"convertToInteractive('df-b2312077-7679-4be8-8d9e-0d44b012f04a')\"\n",
              "              title=\"Convert this dataframe to an interactive table.\"\n",
              "              style=\"display:none;\">\n",
              "        \n",
              "  <svg xmlns=\"http://www.w3.org/2000/svg\" height=\"24px\"viewBox=\"0 0 24 24\"\n",
              "       width=\"24px\">\n",
              "    <path d=\"M0 0h24v24H0V0z\" fill=\"none\"/>\n",
              "    <path d=\"M18.56 5.44l.94 2.06.94-2.06 2.06-.94-2.06-.94-.94-2.06-.94 2.06-2.06.94zm-11 1L8.5 8.5l.94-2.06 2.06-.94-2.06-.94L8.5 2.5l-.94 2.06-2.06.94zm10 10l.94 2.06.94-2.06 2.06-.94-2.06-.94-.94-2.06-.94 2.06-2.06.94z\"/><path d=\"M17.41 7.96l-1.37-1.37c-.4-.4-.92-.59-1.43-.59-.52 0-1.04.2-1.43.59L10.3 9.45l-7.72 7.72c-.78.78-.78 2.05 0 2.83L4 21.41c.39.39.9.59 1.41.59.51 0 1.02-.2 1.41-.59l7.78-7.78 2.81-2.81c.8-.78.8-2.07 0-2.86zM5.41 20L4 18.59l7.72-7.72 1.47 1.35L5.41 20z\"/>\n",
              "  </svg>\n",
              "      </button>\n",
              "      \n",
              "  <style>\n",
              "    .colab-df-container {\n",
              "      display:flex;\n",
              "      flex-wrap:wrap;\n",
              "      gap: 12px;\n",
              "    }\n",
              "\n",
              "    .colab-df-convert {\n",
              "      background-color: #E8F0FE;\n",
              "      border: none;\n",
              "      border-radius: 50%;\n",
              "      cursor: pointer;\n",
              "      display: none;\n",
              "      fill: #1967D2;\n",
              "      height: 32px;\n",
              "      padding: 0 0 0 0;\n",
              "      width: 32px;\n",
              "    }\n",
              "\n",
              "    .colab-df-convert:hover {\n",
              "      background-color: #E2EBFA;\n",
              "      box-shadow: 0px 1px 2px rgba(60, 64, 67, 0.3), 0px 1px 3px 1px rgba(60, 64, 67, 0.15);\n",
              "      fill: #174EA6;\n",
              "    }\n",
              "\n",
              "    [theme=dark] .colab-df-convert {\n",
              "      background-color: #3B4455;\n",
              "      fill: #D2E3FC;\n",
              "    }\n",
              "\n",
              "    [theme=dark] .colab-df-convert:hover {\n",
              "      background-color: #434B5C;\n",
              "      box-shadow: 0px 1px 3px 1px rgba(0, 0, 0, 0.15);\n",
              "      filter: drop-shadow(0px 1px 2px rgba(0, 0, 0, 0.3));\n",
              "      fill: #FFFFFF;\n",
              "    }\n",
              "  </style>\n",
              "\n",
              "      <script>\n",
              "        const buttonEl =\n",
              "          document.querySelector('#df-b2312077-7679-4be8-8d9e-0d44b012f04a button.colab-df-convert');\n",
              "        buttonEl.style.display =\n",
              "          google.colab.kernel.accessAllowed ? 'block' : 'none';\n",
              "\n",
              "        async function convertToInteractive(key) {\n",
              "          const element = document.querySelector('#df-b2312077-7679-4be8-8d9e-0d44b012f04a');\n",
              "          const dataTable =\n",
              "            await google.colab.kernel.invokeFunction('convertToInteractive',\n",
              "                                                     [key], {});\n",
              "          if (!dataTable) return;\n",
              "\n",
              "          const docLinkHtml = 'Like what you see? Visit the ' +\n",
              "            '<a target=\"_blank\" href=https://colab.research.google.com/notebooks/data_table.ipynb>data table notebook</a>'\n",
              "            + ' to learn more about interactive tables.';\n",
              "          element.innerHTML = '';\n",
              "          dataTable['output_type'] = 'display_data';\n",
              "          await google.colab.output.renderOutput(dataTable, element);\n",
              "          const docLink = document.createElement('div');\n",
              "          docLink.innerHTML = docLinkHtml;\n",
              "          element.appendChild(docLink);\n",
              "        }\n",
              "      </script>\n",
              "    </div>\n",
              "  </div>\n",
              "  "
            ]
          },
          "metadata": {},
          "execution_count": 15
        }
      ]
    },
    {
      "cell_type": "markdown",
      "source": [
        "The following functions clean the data by removing some unwanted elements of raw data, such as punctuations and stopwords. They do not have any effect on the sentiment."
      ],
      "metadata": {
        "id": "f9zIjIUO_lYz"
      }
    },
    {
      "cell_type": "code",
      "source": [
        "# step 1: punctuation\n",
        "def remove_punctuation(text):\n",
        "    pun_lst = string.punctuation\n",
        "    no_punct = [words for words in text if words not in pun_lst]\n",
        "    #words_wo_punct=''.join(no_punct)\n",
        "    return no_punct\n",
        "\n",
        "documents_df['review'] = documents_df['review'].apply(lambda x: remove_punctuation(x))"
      ],
      "metadata": {
        "id": "kKP2pNO4_813"
      },
      "execution_count": 16,
      "outputs": []
    },
    {
      "cell_type": "code",
      "source": [
        "# step 2: stopwords\n",
        "stopword = nltk.corpus.stopwords.words('english')\n",
        "def remove_stopwords(text):\n",
        "    text = [word for word in text if word not in stopword]\n",
        "    return text\n",
        "  \n",
        "documents_df['review'] = documents_df['review'].apply(lambda x: remove_stopwords(x))"
      ],
      "metadata": {
        "id": "DoapJ_asBsTC"
      },
      "execution_count": 19,
      "outputs": []
    },
    {
      "cell_type": "code",
      "source": [
        "# step 3: numbers\n",
        "def remove_numbers(text):\n",
        "    text = [word for word in text if not word.isnumeric()]\n",
        "    return text\n",
        "\n",
        "documents_df['review'] = documents_df['review'].apply(lambda x: remove_numbers(x))"
      ],
      "metadata": {
        "id": "WQU9oHmABy6T"
      },
      "execution_count": 20,
      "outputs": []
    },
    {
      "cell_type": "markdown",
      "source": [
        "My favorite step is to extract the 'root' of words. For example, 'have', 'had', 'having' will all be converted to 'have'. This step is not an intuitive one to me because there is no change of verbs in my first language, Chinese. Now I have learned this elegant step for processing words."
      ],
      "metadata": {
        "id": "qXuqGq-cCDO0"
      }
    },
    {
      "cell_type": "code",
      "source": [
        "# step 4: stemming\n",
        "ps =PorterStemmer()\n",
        "def stemming(text):\n",
        "    text = list(map(lambda x: ps.stem(x), text))\n",
        "    # after stemming, remove duplicates\n",
        "    text = list(np.unique(text))\n",
        "    return text\n",
        "\n",
        "documents_df['review'] = documents_df['review'].apply(lambda x: stemming(x))"
      ],
      "metadata": {
        "id": "FqrBJgUEB8SA"
      },
      "execution_count": 21,
      "outputs": []
    },
    {
      "cell_type": "markdown",
      "source": [
        "Quick look at documents_df after transformation"
      ],
      "metadata": {
        "id": "UiAyhbruBlE0"
      }
    },
    {
      "cell_type": "code",
      "source": [
        "documents_df.head(10)"
      ],
      "metadata": {
        "colab": {
          "base_uri": "https://localhost:8080/",
          "height": 363
        },
        "id": "nGUp51NVHhVR",
        "outputId": "f5ef859c-876b-4988-8a43-01d2184caeca"
      },
      "execution_count": 23,
      "outputs": [
        {
          "output_type": "execute_result",
          "data": {
            "text/plain": [
              "                                              review sentiment\n",
              "0  [--, act, action, actor, actress, ad, addit, a...       neg\n",
              "1  [--, abus, across, action, activ, actual, admi...       pos\n",
              "2  [abandon, acknowledg, across, actor, actress, ...       pos\n",
              "3  [action, ad, adam, adher, advantag, agre, aid,...       pos\n",
              "4  [abil, alli, allow, anim, apolog, attack, atta...       neg\n",
              "5  [--, action, adapt, ago, art, asid, attent, b,...       neg\n",
              "6  [--, actor, air, alreadi, alway, ammo, annoyin...       neg\n",
              "7  [act, actor, affair, alik, america, ampli, ano...       neg\n",
              "8  [act, actor, ado, affleck, almost, also, alway...       neg\n",
              "9  [acknowledg, aid, argento, band, beauti, becko...       pos"
            ],
            "text/html": [
              "\n",
              "  <div id=\"df-b6f88c10-25de-42b5-b8aa-a2d99fd7b489\">\n",
              "    <div class=\"colab-df-container\">\n",
              "      <div>\n",
              "<style scoped>\n",
              "    .dataframe tbody tr th:only-of-type {\n",
              "        vertical-align: middle;\n",
              "    }\n",
              "\n",
              "    .dataframe tbody tr th {\n",
              "        vertical-align: top;\n",
              "    }\n",
              "\n",
              "    .dataframe thead th {\n",
              "        text-align: right;\n",
              "    }\n",
              "</style>\n",
              "<table border=\"1\" class=\"dataframe\">\n",
              "  <thead>\n",
              "    <tr style=\"text-align: right;\">\n",
              "      <th></th>\n",
              "      <th>review</th>\n",
              "      <th>sentiment</th>\n",
              "    </tr>\n",
              "  </thead>\n",
              "  <tbody>\n",
              "    <tr>\n",
              "      <th>0</th>\n",
              "      <td>[--, act, action, actor, actress, ad, addit, a...</td>\n",
              "      <td>neg</td>\n",
              "    </tr>\n",
              "    <tr>\n",
              "      <th>1</th>\n",
              "      <td>[--, abus, across, action, activ, actual, admi...</td>\n",
              "      <td>pos</td>\n",
              "    </tr>\n",
              "    <tr>\n",
              "      <th>2</th>\n",
              "      <td>[abandon, acknowledg, across, actor, actress, ...</td>\n",
              "      <td>pos</td>\n",
              "    </tr>\n",
              "    <tr>\n",
              "      <th>3</th>\n",
              "      <td>[action, ad, adam, adher, advantag, agre, aid,...</td>\n",
              "      <td>pos</td>\n",
              "    </tr>\n",
              "    <tr>\n",
              "      <th>4</th>\n",
              "      <td>[abil, alli, allow, anim, apolog, attack, atta...</td>\n",
              "      <td>neg</td>\n",
              "    </tr>\n",
              "    <tr>\n",
              "      <th>5</th>\n",
              "      <td>[--, action, adapt, ago, art, asid, attent, b,...</td>\n",
              "      <td>neg</td>\n",
              "    </tr>\n",
              "    <tr>\n",
              "      <th>6</th>\n",
              "      <td>[--, actor, air, alreadi, alway, ammo, annoyin...</td>\n",
              "      <td>neg</td>\n",
              "    </tr>\n",
              "    <tr>\n",
              "      <th>7</th>\n",
              "      <td>[act, actor, affair, alik, america, ampli, ano...</td>\n",
              "      <td>neg</td>\n",
              "    </tr>\n",
              "    <tr>\n",
              "      <th>8</th>\n",
              "      <td>[act, actor, ado, affleck, almost, also, alway...</td>\n",
              "      <td>neg</td>\n",
              "    </tr>\n",
              "    <tr>\n",
              "      <th>9</th>\n",
              "      <td>[acknowledg, aid, argento, band, beauti, becko...</td>\n",
              "      <td>pos</td>\n",
              "    </tr>\n",
              "  </tbody>\n",
              "</table>\n",
              "</div>\n",
              "      <button class=\"colab-df-convert\" onclick=\"convertToInteractive('df-b6f88c10-25de-42b5-b8aa-a2d99fd7b489')\"\n",
              "              title=\"Convert this dataframe to an interactive table.\"\n",
              "              style=\"display:none;\">\n",
              "        \n",
              "  <svg xmlns=\"http://www.w3.org/2000/svg\" height=\"24px\"viewBox=\"0 0 24 24\"\n",
              "       width=\"24px\">\n",
              "    <path d=\"M0 0h24v24H0V0z\" fill=\"none\"/>\n",
              "    <path d=\"M18.56 5.44l.94 2.06.94-2.06 2.06-.94-2.06-.94-.94-2.06-.94 2.06-2.06.94zm-11 1L8.5 8.5l.94-2.06 2.06-.94-2.06-.94L8.5 2.5l-.94 2.06-2.06.94zm10 10l.94 2.06.94-2.06 2.06-.94-2.06-.94-.94-2.06-.94 2.06-2.06.94z\"/><path d=\"M17.41 7.96l-1.37-1.37c-.4-.4-.92-.59-1.43-.59-.52 0-1.04.2-1.43.59L10.3 9.45l-7.72 7.72c-.78.78-.78 2.05 0 2.83L4 21.41c.39.39.9.59 1.41.59.51 0 1.02-.2 1.41-.59l7.78-7.78 2.81-2.81c.8-.78.8-2.07 0-2.86zM5.41 20L4 18.59l7.72-7.72 1.47 1.35L5.41 20z\"/>\n",
              "  </svg>\n",
              "      </button>\n",
              "      \n",
              "  <style>\n",
              "    .colab-df-container {\n",
              "      display:flex;\n",
              "      flex-wrap:wrap;\n",
              "      gap: 12px;\n",
              "    }\n",
              "\n",
              "    .colab-df-convert {\n",
              "      background-color: #E8F0FE;\n",
              "      border: none;\n",
              "      border-radius: 50%;\n",
              "      cursor: pointer;\n",
              "      display: none;\n",
              "      fill: #1967D2;\n",
              "      height: 32px;\n",
              "      padding: 0 0 0 0;\n",
              "      width: 32px;\n",
              "    }\n",
              "\n",
              "    .colab-df-convert:hover {\n",
              "      background-color: #E2EBFA;\n",
              "      box-shadow: 0px 1px 2px rgba(60, 64, 67, 0.3), 0px 1px 3px 1px rgba(60, 64, 67, 0.15);\n",
              "      fill: #174EA6;\n",
              "    }\n",
              "\n",
              "    [theme=dark] .colab-df-convert {\n",
              "      background-color: #3B4455;\n",
              "      fill: #D2E3FC;\n",
              "    }\n",
              "\n",
              "    [theme=dark] .colab-df-convert:hover {\n",
              "      background-color: #434B5C;\n",
              "      box-shadow: 0px 1px 3px 1px rgba(0, 0, 0, 0.15);\n",
              "      filter: drop-shadow(0px 1px 2px rgba(0, 0, 0, 0.3));\n",
              "      fill: #FFFFFF;\n",
              "    }\n",
              "  </style>\n",
              "\n",
              "      <script>\n",
              "        const buttonEl =\n",
              "          document.querySelector('#df-b6f88c10-25de-42b5-b8aa-a2d99fd7b489 button.colab-df-convert');\n",
              "        buttonEl.style.display =\n",
              "          google.colab.kernel.accessAllowed ? 'block' : 'none';\n",
              "\n",
              "        async function convertToInteractive(key) {\n",
              "          const element = document.querySelector('#df-b6f88c10-25de-42b5-b8aa-a2d99fd7b489');\n",
              "          const dataTable =\n",
              "            await google.colab.kernel.invokeFunction('convertToInteractive',\n",
              "                                                     [key], {});\n",
              "          if (!dataTable) return;\n",
              "\n",
              "          const docLinkHtml = 'Like what you see? Visit the ' +\n",
              "            '<a target=\"_blank\" href=https://colab.research.google.com/notebooks/data_table.ipynb>data table notebook</a>'\n",
              "            + ' to learn more about interactive tables.';\n",
              "          element.innerHTML = '';\n",
              "          dataTable['output_type'] = 'display_data';\n",
              "          await google.colab.output.renderOutput(dataTable, element);\n",
              "          const docLink = document.createElement('div');\n",
              "          docLink.innerHTML = docLinkHtml;\n",
              "          element.appendChild(docLink);\n",
              "        }\n",
              "      </script>\n",
              "    </div>\n",
              "  </div>\n",
              "  "
            ]
          },
          "metadata": {},
          "execution_count": 23
        }
      ]
    },
    {
      "cell_type": "markdown",
      "source": [
        "We can convert dataframe back to a list of tuples. Then, we pick the 2000 most frequent words in the movie reviews. We call these words 'features'. "
      ],
      "metadata": {
        "id": "yHAt5OJFI35c"
      }
    },
    {
      "cell_type": "code",
      "source": [
        "# turn dataframe into a list of tuples\n",
        "documents_lst = [tuple(r) for r in documents_df.to_numpy()]\n",
        "\n",
        "# # the rank of frequencies of all words\n",
        "all_words = nltk.FreqDist(w.lower() for w in movie_reviews.words())\n",
        "# # we call the 2000 most frequent words 'features'\n",
        "word_features = list(all_words)[:2000]"
      ],
      "metadata": {
        "id": "I6KdoE6nIzZ8"
      },
      "execution_count": 24,
      "outputs": []
    },
    {
      "cell_type": "markdown",
      "source": [
        "Check if a word of one review exists in features. \n",
        "\n"
      ],
      "metadata": {
        "id": "WW5w-K6mJnYE"
      }
    },
    {
      "cell_type": "code",
      "source": [
        "def document_features(document):\n",
        "    document_words = set(document)\n",
        "    features = {}\n",
        "    for word in word_features:\n",
        "        features['has({})'.format(word)] = (word in document_words)\n",
        "    return features"
      ],
      "metadata": {
        "id": "SMqk2OPlJiDG"
      },
      "execution_count": 26,
      "outputs": []
    },
    {
      "cell_type": "markdown",
      "source": [
        "Lastly, we format the data so that it fits the Naive Bayes classifier. "
      ],
      "metadata": {
        "id": "_G60W8EtLb1B"
      }
    },
    {
      "cell_type": "code",
      "source": [
        "labelsets = [(document_features(d), c) for (d,c) in documents_lst]\n",
        "# train test split\n",
        "training_set = labelsets[:1500]\n",
        "testing_set = labelsets[1500:]\n",
        "# classifier\n",
        "MNB_classifier = SklearnClassifier(MultinomialNB())\n",
        "MNB_classifier.train(training_set)\n",
        "print(\"MultinomialNB accuracy percent:\",nltk.classify.accuracy(MNB_classifier, testing_set))\n"
      ],
      "metadata": {
        "colab": {
          "base_uri": "https://localhost:8080/"
        },
        "id": "zSXUxIg6LcAl",
        "outputId": "a653ad75-d75e-4475-a55d-93c55071ad9a"
      },
      "execution_count": 27,
      "outputs": [
        {
          "output_type": "stream",
          "name": "stdout",
          "text": [
            "MultinomialNB accuracy percent: 0.808\n"
          ]
        }
      ]
    },
    {
      "cell_type": "markdown",
      "source": [
        "According to the output, the MNB model can successfully predicts the sentiment of a given review 80% of the time. A possible improvement of this project is to add more data cleaning approaches. "
      ],
      "metadata": {
        "id": "L7wVqGdLMje3"
      }
    }
  ]
}